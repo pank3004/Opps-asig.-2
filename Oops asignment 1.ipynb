{
 "cells": [
  {
   "cell_type": "code",
   "execution_count": null,
   "id": "3981b453-8d62-46ca-8c60-fda45afb9e6c",
   "metadata": {},
   "outputs": [],
   "source": [
    "'''Q1. Explain Class and Object with respect to Object-Oriented Programming. Give a suitable example.'''"
   ]
  },
  {
   "cell_type": "code",
   "execution_count": 19,
   "id": "261ad76f-085e-4e60-a438-b9ac9aa54663",
   "metadata": {},
   "outputs": [
    {
     "name": "stdout",
     "output_type": "stream",
     "text": [
      "name:  pankaj roll number:  20\n"
     ]
    },
    {
     "data": {
      "text/plain": [
       "'pankaj'"
      ]
     },
     "execution_count": 19,
     "metadata": {},
     "output_type": "execute_result"
    }
   ],
   "source": [
    "class student: \n",
    "    def __init__(self, name, roll_num): \n",
    "        self.name=name\n",
    "        self.roll_num=roll_num\n",
    "        \n",
    "    def std_details(self): \n",
    "        print(\"name: \",self.name, \"roll number: \",self.roll_num)\n",
    "        \n",
    "std_obj=student('pankaj', 20)\n",
    "std_obj.std_details()\n",
    "std_obj.name\n",
    "\n",
    "#here student is the class and std_obj is the class object"
   ]
  },
  {
   "cell_type": "code",
   "execution_count": null,
   "id": "e363c1c4-722a-4b40-98c7-a88b8bf638b4",
   "metadata": {},
   "outputs": [],
   "source": [
    "Q2. Name the four pillars of OOPs.\n",
    "\n",
    "ans>>\n",
    "        1.Inheritance\n",
    "        2.Polymorphism\n",
    "        3.Encapsulation\n",
    "        4.Abstaction"
   ]
  },
  {
   "cell_type": "code",
   "execution_count": null,
   "id": "8acc8ccb-3463-41cf-8cf5-939b0d182ca5",
   "metadata": {},
   "outputs": [],
   "source": [
    "Q3. Explain why the __init__() function is used. Give a suitable example."
   ]
  },
  {
   "cell_type": "code",
   "execution_count": 25,
   "id": "4a53b46d-c285-4c7f-bb66-d4d8551a72f2",
   "metadata": {},
   "outputs": [
    {
     "data": {
      "text/plain": [
       "'Python'"
      ]
     },
     "execution_count": 25,
     "metadata": {},
     "output_type": "execute_result"
    }
   ],
   "source": [
    "class course: \n",
    "    def __init__(self, course_name, prize): \n",
    "        self.course_name=course_name\n",
    "        self.prize=prize\n",
    "        \n",
    "c_obj=course('Python', 10000)\n",
    "c_obj.course_name\n",
    "\n",
    "#The python __init__ method is declared within a class and is used to initialize the attributes of an object as soon as the object is formed. While giving the definition for an __init__(self) method, a default parameter, named 'self' is always passed in its argument. This self represents the object of the class itself."
   ]
  },
  {
   "cell_type": "code",
   "execution_count": null,
   "id": "aa854687-4a0f-4b0e-917d-652d7f0f3fa2",
   "metadata": {},
   "outputs": [],
   "source": [
    "Q4. Why self is used in OOPs?\n",
    "Ans>>>>>>>\n",
    "#self represents the instance of the class. By using the “self” we can access the attributes and methods of the class in python. It binds the attributes with the given arguments. The reason you need to use self. is because Python does not use the @ syntax to refer to instance attributes"
   ]
  },
  {
   "cell_type": "code",
   "execution_count": null,
   "id": "7fed8068-0162-4a3e-81b8-43cfb013c58f",
   "metadata": {},
   "outputs": [],
   "source": [
    "Q5. What is inheritance? Give an example for each type of inheritance."
   ]
  },
  {
   "cell_type": "code",
   "execution_count": 27,
   "id": "fe6546ba-f851-4f8d-99f9-bca84a3a2d40",
   "metadata": {},
   "outputs": [],
   "source": [
    "'''Inheritance::::>>\n",
    "Inheritance allows us to define a class that inherits all the methods and properties from another class. Parent class is the class being inherited from, also called base class. Child class is the class that inherits from another class, also called derived class.'''\n",
    "\n",
    "# multilevel inheritance\n",
    "\n",
    "class parent_class: \n",
    "    def parent_method(self): \n",
    "        print(\"this is my parent class methoh\")\n",
    "        \n",
    "class child_class(parent_class): \n",
    "    def child_method(self): \n",
    "        print(\"this is my child class method\")\n",
    "        \n",
    "class grand_child(child_class): \n",
    "    def grand_method(self): \n",
    "        print(\"this is my grand class method\")"
   ]
  },
  {
   "cell_type": "code",
   "execution_count": 28,
   "id": "7c0eab42-6df2-4b7b-bc1c-5a9b95ee7fc6",
   "metadata": {},
   "outputs": [],
   "source": [
    "obj=grand_child()"
   ]
  },
  {
   "cell_type": "code",
   "execution_count": 30,
   "id": "312cea02-31b6-4a68-a476-d3cf586ef854",
   "metadata": {},
   "outputs": [
    {
     "name": "stdout",
     "output_type": "stream",
     "text": [
      "this is my grand class method\n"
     ]
    }
   ],
   "source": [
    "obj.grand_method()"
   ]
  },
  {
   "cell_type": "code",
   "execution_count": 31,
   "id": "2036a3b7-1202-4946-94cb-645b2c55204f",
   "metadata": {},
   "outputs": [
    {
     "name": "stdout",
     "output_type": "stream",
     "text": [
      "this is my child class method\n"
     ]
    }
   ],
   "source": [
    "obj.child_method()"
   ]
  },
  {
   "cell_type": "code",
   "execution_count": 32,
   "id": "f11b84f2-f0f4-4d8c-8a1d-20b5f4ae7d8b",
   "metadata": {},
   "outputs": [
    {
     "name": "stdout",
     "output_type": "stream",
     "text": [
      "this is my parent class methoh\n"
     ]
    }
   ],
   "source": [
    "obj.parent_method()"
   ]
  },
  {
   "cell_type": "code",
   "execution_count": 33,
   "id": "0da1f76b-3eee-4b4f-8362-3393f435cc13",
   "metadata": {},
   "outputs": [],
   "source": [
    "# multiple inheritance\n",
    "\n",
    "class nitesh: \n",
    "    def nitesh_method(self): \n",
    "        print(\"bad boy\")\n",
    "        \n",
    "class kajal: \n",
    "    def kajal_method(self): \n",
    "        print(\"good girl\")\n",
    "        \n",
    "class mixture_unknown(nitesh, kajal): \n",
    "    def unknown_method(self):\n",
    "        print(\"this is the combination of both\")"
   ]
  },
  {
   "cell_type": "code",
   "execution_count": 34,
   "id": "7b94df81-c538-420c-bd70-63c1899c4a5a",
   "metadata": {},
   "outputs": [],
   "source": [
    "obj1=mixture_unknown()"
   ]
  },
  {
   "cell_type": "code",
   "execution_count": 36,
   "id": "866b9329-3310-433b-a385-97d4b1038918",
   "metadata": {},
   "outputs": [
    {
     "name": "stdout",
     "output_type": "stream",
     "text": [
      "this is the combination of both\n"
     ]
    }
   ],
   "source": [
    "obj1.unknown_method()"
   ]
  },
  {
   "cell_type": "code",
   "execution_count": 38,
   "id": "5fcb52cf-6875-4676-9343-b9a031f549dd",
   "metadata": {},
   "outputs": [
    {
     "name": "stdout",
     "output_type": "stream",
     "text": [
      "good girl\n"
     ]
    }
   ],
   "source": [
    "obj1.kajal_method()"
   ]
  },
  {
   "cell_type": "code",
   "execution_count": 40,
   "id": "3423f14b-23dd-4990-909a-d69a8ffd49d1",
   "metadata": {},
   "outputs": [
    {
     "name": "stdout",
     "output_type": "stream",
     "text": [
      "bad boy\n"
     ]
    }
   ],
   "source": [
    "obj1.nitesh_method()"
   ]
  },
  {
   "cell_type": "code",
   "execution_count": null,
   "id": "59dba4d2-27f1-43f1-81f0-e648c5a61a34",
   "metadata": {},
   "outputs": [],
   "source": []
  }
 ],
 "metadata": {
  "kernelspec": {
   "display_name": "Python 3 (ipykernel)",
   "language": "python",
   "name": "python3"
  },
  "language_info": {
   "codemirror_mode": {
    "name": "ipython",
    "version": 3
   },
   "file_extension": ".py",
   "mimetype": "text/x-python",
   "name": "python",
   "nbconvert_exporter": "python",
   "pygments_lexer": "ipython3",
   "version": "3.10.8"
  }
 },
 "nbformat": 4,
 "nbformat_minor": 5
}
